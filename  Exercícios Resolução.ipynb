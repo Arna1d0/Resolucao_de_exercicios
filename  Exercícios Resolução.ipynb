{
 "cells": [
  {
   "cell_type": "markdown",
   "id": "9c550ed7",
   "metadata": {},
   "source": [
    "#### Exercício 1 - Imprima na tela os números de 1 a 10. Use uma lista para armazenar os números."
   ]
  },
  {
   "cell_type": "code",
   "execution_count": null,
   "id": "adb81db6",
   "metadata": {},
   "outputs": [],
   "source": [
    "# Criar uma lista de números de 1 a 10\n",
    "numeros = [1, 2, 3, 4, 5, 6, 7, 8, 9, 10]\n"
   ]
  },
  {
   "cell_type": "code",
   "execution_count": null,
   "id": "83770594",
   "metadata": {},
   "outputs": [],
   "source": [
    "# Usar um loop para imprimir cada número\n",
    "for numero in numeros:\n",
    "    print(numero)"
   ]
  },
  {
   "cell_type": "markdown",
   "id": "c3c632af",
   "metadata": {},
   "source": [
    "#### Exercício 2 - Crie uma lista de 5 objetos e imprima na tela"
   ]
  },
  {
   "cell_type": "code",
   "execution_count": null,
   "id": "330e8d5e",
   "metadata": {},
   "outputs": [],
   "source": [
    "#criando a lista\n",
    "lista = ['acucar','cafe','sal','Margarina','ovo']"
   ]
  },
  {
   "cell_type": "code",
   "execution_count": null,
   "id": "c7f161dc",
   "metadata": {},
   "outputs": [],
   "source": [
    "print (lista)"
   ]
  },
  {
   "cell_type": "code",
   "execution_count": null,
   "id": "b29fc3aa",
   "metadata": {},
   "outputs": [],
   "source": [
    "lista [2]= 'nescau'"
   ]
  },
  {
   "cell_type": "code",
   "execution_count": null,
   "id": "b6614320",
   "metadata": {},
   "outputs": [],
   "source": [
    "print (lista)"
   ]
  },
  {
   "cell_type": "code",
   "execution_count": null,
   "id": "7ce2c0b8",
   "metadata": {},
   "outputs": [],
   "source": [
    "#excluindo um item da lista\n",
    "del lista [2]"
   ]
  },
  {
   "cell_type": "code",
   "execution_count": null,
   "id": "e7872e88",
   "metadata": {},
   "outputs": [],
   "source": [
    "print (lista)"
   ]
  },
  {
   "cell_type": "code",
   "execution_count": null,
   "id": "f26e24cc",
   "metadata": {},
   "outputs": [],
   "source": [
    "lista [2] = 'Sal'"
   ]
  },
  {
   "cell_type": "code",
   "execution_count": null,
   "id": "ec2c5236",
   "metadata": {},
   "outputs": [],
   "source": [
    "print(lista)"
   ]
  },
  {
   "cell_type": "code",
   "execution_count": null,
   "id": "a7ff5eb4",
   "metadata": {},
   "outputs": [],
   "source": [
    "#adicionando um item à mais na lista \n",
    "lista.append('nescau')"
   ]
  },
  {
   "cell_type": "code",
   "execution_count": null,
   "id": "5c02e282",
   "metadata": {},
   "outputs": [],
   "source": [
    "print(lista)"
   ]
  },
  {
   "cell_type": "markdown",
   "id": "479ca2ef",
   "metadata": {},
   "source": [
    "### Exercício 3 - Crie duas strings e concatene as duas em uma terceira string"
   ]
  },
  {
   "cell_type": "code",
   "execution_count": null,
   "id": "2ec39234",
   "metadata": {},
   "outputs": [],
   "source": [
    "str1 = 'Criando uma frase '"
   ]
  },
  {
   "cell_type": "code",
   "execution_count": null,
   "id": "e0d90f77",
   "metadata": {},
   "outputs": [],
   "source": [
    "print(str1)"
   ]
  },
  {
   "cell_type": "code",
   "execution_count": null,
   "id": "c5ce8521",
   "metadata": {},
   "outputs": [],
   "source": [
    "str2 = 'Para somar com outra frase'"
   ]
  },
  {
   "cell_type": "code",
   "execution_count": null,
   "id": "6bcc534d",
   "metadata": {},
   "outputs": [],
   "source": [
    "print(str2)"
   ]
  },
  {
   "cell_type": "code",
   "execution_count": null,
   "id": "fd5141d9",
   "metadata": {},
   "outputs": [],
   "source": [
    "str3 = str1 + str2"
   ]
  },
  {
   "cell_type": "code",
   "execution_count": null,
   "id": "1c0347e2",
   "metadata": {},
   "outputs": [],
   "source": [
    "print(str3)"
   ]
  },
  {
   "cell_type": "markdown",
   "id": "1208e115",
   "metadata": {},
   "source": [
    "### Exercício 4 - Crie uma tupla com os seguintes elementos: 1, 2, 2, 3, 4, 4, 4, 5 e depois utilize a função count do \n",
    "#### objeto tupla para verificar quantas vezes o número 4 aparece na tupla"
   ]
  },
  {
   "cell_type": "code",
   "execution_count": null,
   "id": "66b6c642",
   "metadata": {},
   "outputs": [],
   "source": [
    "tupla1 = (1, 2, 2, 3, 4, 4, 4, 5)"
   ]
  },
  {
   "cell_type": "code",
   "execution_count": null,
   "id": "25f05474",
   "metadata": {},
   "outputs": [],
   "source": [
    "print(tupla1)"
   ]
  },
  {
   "cell_type": "code",
   "execution_count": null,
   "id": "3e0f1bcf",
   "metadata": {},
   "outputs": [],
   "source": [
    "valor = tupla1.count (4)"
   ]
  },
  {
   "cell_type": "code",
   "execution_count": null,
   "id": "d1e21c70",
   "metadata": {},
   "outputs": [],
   "source": [
    "print('O numero 4 aparece',valor, 'vezes !')"
   ]
  },
  {
   "cell_type": "markdown",
   "id": "08754596",
   "metadata": {},
   "source": [
    "###  Exercício 5 - Crie um dicionário vazio e imprima na tela"
   ]
  },
  {
   "cell_type": "code",
   "execution_count": null,
   "id": "6cf5419a",
   "metadata": {},
   "outputs": [],
   "source": [
    "dic1 = {}"
   ]
  },
  {
   "cell_type": "code",
   "execution_count": null,
   "id": "e50d83c9",
   "metadata": {},
   "outputs": [],
   "source": [
    "print = (dic1)"
   ]
  },
  {
   "cell_type": "markdown",
   "id": "0b48278a",
   "metadata": {},
   "source": [
    "### Exercício 6 - Crie um dicionário com 3 chaves e 3 valores e imprima na tela"
   ]
  },
  {
   "cell_type": "code",
   "execution_count": null,
   "id": "784f2168",
   "metadata": {},
   "outputs": [],
   "source": [
    "meu_dicionario = {'k1':'Bruna', 'k2':'Olivia', 'k3':'Sara'}"
   ]
  },
  {
   "cell_type": "code",
   "execution_count": null,
   "id": "fc702c79",
   "metadata": {},
   "outputs": [],
   "source": [
    "print(meu_dicionario)"
   ]
  },
  {
   "cell_type": "markdown",
   "id": "85479fd6",
   "metadata": {},
   "source": [
    "### Exercício 7 - Adicione mais um elemento ao dicionário criado no exercício anterior e imprima na tela"
   ]
  },
  {
   "cell_type": "code",
   "execution_count": null,
   "id": "9324ba21",
   "metadata": {},
   "outputs": [],
   "source": [
    "meu_dicionario ['k4'] = 'Arnaldo'"
   ]
  },
  {
   "cell_type": "code",
   "execution_count": null,
   "id": "07a8ff9f",
   "metadata": {},
   "outputs": [],
   "source": [
    "print(meu_dicionario)"
   ]
  },
  {
   "cell_type": "code",
   "execution_count": null,
   "id": "de0d70cc",
   "metadata": {},
   "outputs": [],
   "source": [
    "meu_dicionario ['k5'] = 'Ida'"
   ]
  },
  {
   "cell_type": "code",
   "execution_count": null,
   "id": "23231074",
   "metadata": {},
   "outputs": [],
   "source": [
    "print(meu_dicionario)"
   ]
  },
  {
   "cell_type": "markdown",
   "id": "e9aa23ea",
   "metadata": {},
   "source": [
    "## Exercício 8 - Crie um dicionário com 3 chaves e 3 valores. \n",
    "### Um dos valores deve ser uma lista de 2 elementos numéricos. \n",
    "### Imprima o dicionário na tela."
   ]
  },
  {
   "cell_type": "code",
   "execution_count": null,
   "id": "ae7423a1",
   "metadata": {},
   "outputs": [],
   "source": [
    "meu_dicionario1 = {'k1':'Bruna', 'K2':'Arnaldo', 'k3':[1,2]}"
   ]
  },
  {
   "cell_type": "code",
   "execution_count": null,
   "id": "cacb1b94",
   "metadata": {},
   "outputs": [],
   "source": [
    "print(meu_dicionario1)"
   ]
  },
  {
   "cell_type": "markdown",
   "id": "8a093abb",
   "metadata": {},
   "source": [
    "## Exercício 9 - Crie uma lista de 4 elementos. O primeiro elemento deve ser uma string, \n",
    "### o segundo uma tupla de 2 elementos, o terceiro um dcionário com 2 chaves e 2 valores e \n",
    "### o quarto elemento um valor do tipo float.\n",
    "### Imprima a lista."
   ]
  },
  {
   "cell_type": "code",
   "execution_count": null,
   "id": "2ba658c7",
   "metadata": {},
   "outputs": [],
   "source": [
    "list2 = ['string', ('1','2'), {'k6':'sara','k7':'olivia'} ,'1,25']"
   ]
  },
  {
   "cell_type": "code",
   "execution_count": null,
   "id": "dbff72ba",
   "metadata": {},
   "outputs": [],
   "source": [
    "print(list2)"
   ]
  },
  {
   "cell_type": "markdown",
   "id": "55bcfcf7",
   "metadata": {},
   "source": [
    "### Exercício 10 - Considere a string abaixo. Imprima na tela apenas os caracteres da posição 1 a 18.\n",
    "frase = 'Cientista de Dados é o profissional mais sexy do século XXI'"
   ]
  },
  {
   "cell_type": "code",
   "execution_count": null,
   "id": "4172b6fc",
   "metadata": {},
   "outputs": [],
   "source": [
    "str = ('Cientista de Dados é o profissional mais sexy do século XXI')"
   ]
  },
  {
   "cell_type": "code",
   "execution_count": null,
   "id": "5f406790",
   "metadata": {},
   "outputs": [],
   "source": [
    "str [1:]"
   ]
  },
  {
   "cell_type": "code",
   "execution_count": null,
   "id": "6df05457",
   "metadata": {},
   "outputs": [],
   "source": []
  },
  {
   "cell_type": "code",
   "execution_count": null,
   "id": "eb04a6d0",
   "metadata": {},
   "outputs": [],
   "source": []
  }
 ],
 "metadata": {
  "kernelspec": {
   "display_name": "Python 3 (ipykernel)",
   "language": "python",
   "name": "python3"
  },
  "language_info": {
   "codemirror_mode": {
    "name": "ipython",
    "version": 3
   },
   "file_extension": ".py",
   "mimetype": "text/x-python",
   "name": "python",
   "nbconvert_exporter": "python",
   "pygments_lexer": "ipython3",
   "version": "3.9.13"
  }
 },
 "nbformat": 4,
 "nbformat_minor": 5
}
